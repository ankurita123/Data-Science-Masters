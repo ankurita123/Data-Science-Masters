{
 "cells": [
  {
   "cell_type": "code",
   "execution_count": 1,
   "id": "dfff0ee8-a6d6-47e7-a248-c083e2e9e796",
   "metadata": {},
   "outputs": [
    {
     "name": "stdout",
     "output_type": "stream",
     "text": [
      "Hello World\n"
     ]
    }
   ],
   "source": [
    "print(\"Hello World\")"
   ]
  },
  {
   "cell_type": "code",
   "execution_count": 4,
   "id": "a7acd32a-d4ab-4032-948d-35180cb8bd48",
   "metadata": {},
   "outputs": [
    {
     "name": "stdout",
     "output_type": "stream",
     "text": [
      "My age is: 32\n"
     ]
    }
   ],
   "source": [
    "age=32\n",
    "print(\"My age is: 32\")"
   ]
  },
  {
   "cell_type": "code",
   "execution_count": 6,
   "id": "ebe3329e-3ac3-4fa3-8345-ac4dcc7e4ee0",
   "metadata": {},
   "outputs": [
    {
     "name": "stdout",
     "output_type": "stream",
     "text": [
      "My age is: 32\n"
     ]
    }
   ],
   "source": [
    "print(f\"My age is: {age}\")"
   ]
  },
  {
   "cell_type": "code",
   "execution_count": 11,
   "id": "850c4f01-bbcf-477c-94d5-9fd314d12ab6",
   "metadata": {},
   "outputs": [
    {
     "name": "stdout",
     "output_type": "stream",
     "text": [
      "My name is Ankurita and age is 32\n"
     ]
    }
   ],
   "source": [
    "name=\"Ankurita\"\n",
    "age=32\n",
    "print(\"My name is {firstname} and age is {firstage}\".format(firstname=name,firstage=age))"
   ]
  },
  {
   "cell_type": "code",
   "execution_count": 13,
   "id": "2e0d52cd-b76c-4e70-846a-0d54d3e73bc2",
   "metadata": {},
   "outputs": [
    {
     "name": "stdout",
     "output_type": "stream",
     "text": [
      "My age is: 32 and I have completed: my degree of B.Tech with the name of Ankurita\n"
     ]
    }
   ],
   "source": [
    "name=\"Ankurita\"\n",
    "age=32\n",
    "degree=\"B.Tech\"\n",
    "print(f\"My age is: {age} and I have completed: my degree of {degree} with the name of {name}\")\n"
   ]
  },
  {
   "cell_type": "code",
   "execution_count": 4,
   "id": "a53177bd-cb5f-4583-bd3e-b8cea1ed1d66",
   "metadata": {},
   "outputs": [],
   "source": [
    "age=18\n",
    "if age<18:\n",
    "    print(\"you are eligible to vote\")"
   ]
  },
  {
   "cell_type": "code",
   "execution_count": 5,
   "id": "3ac9cb52-6b2e-44c5-a557-7ea7bdad6e54",
   "metadata": {},
   "outputs": [
    {
     "name": "stdin",
     "output_type": "stream",
     "text": [
      " Ankurita\n"
     ]
    },
    {
     "data": {
      "text/plain": [
       "'Ankurita'"
      ]
     },
     "execution_count": 5,
     "metadata": {},
     "output_type": "execute_result"
    }
   ],
   "source": [
    "input()\n"
   ]
  },
  {
   "cell_type": "code",
   "execution_count": 10,
   "id": "90c3a5b1-6ea0-4b55-9ee8-b460c10480a2",
   "metadata": {},
   "outputs": [
    {
     "name": "stdin",
     "output_type": "stream",
     "text": [
      "enter age 32\n"
     ]
    }
   ],
   "source": [
    "age=int(input(\"enter age\"))"
   ]
  },
  {
   "cell_type": "code",
   "execution_count": 11,
   "id": "998b77c5-e446-448f-b2a8-6c80a030ccea",
   "metadata": {},
   "outputs": [
    {
     "data": {
      "text/plain": [
       "int"
      ]
     },
     "execution_count": 11,
     "metadata": {},
     "output_type": "execute_result"
    }
   ],
   "source": [
    "type(age)"
   ]
  },
  {
   "cell_type": "code",
   "execution_count": 16,
   "id": "5690b431-5a27-43cc-92c3-f1182e21c482",
   "metadata": {},
   "outputs": [
    {
     "ename": "IndentationError",
     "evalue": "expected an indented block after 'if' statement on line 2 (1144230332.py, line 3)",
     "output_type": "error",
     "traceback": [
      "\u001b[0;36m  Cell \u001b[0;32mIn[16], line 3\u001b[0;36m\u001b[0m\n\u001b[0;31m    print(\"you are a young blood\")\u001b[0m\n\u001b[0m    ^\u001b[0m\n\u001b[0;31mIndentationError\u001b[0m\u001b[0;31m:\u001b[0m expected an indented block after 'if' statement on line 2\n"
     ]
    }
   ],
   "source": [
    "age=int(input(\"enter age\"))\n",
    "if age>=18 and age<=45:\n",
    "print(\"you are a young blood\")\n"
   ]
  },
  {
   "cell_type": "code",
   "execution_count": 15,
   "id": "734253ad-fe79-46d9-92a8-b1f59c196672",
   "metadata": {},
   "outputs": [
    {
     "ename": "IndentationError",
     "evalue": "expected an indented block after 'if' statement on line 1 (86955405.py, line 2)",
     "output_type": "error",
     "traceback": [
      "\u001b[0;36m  Cell \u001b[0;32mIn[15], line 2\u001b[0;36m\u001b[0m\n\u001b[0;31m    print(\"you are a young blood\")\u001b[0m\n\u001b[0m    ^\u001b[0m\n\u001b[0;31mIndentationError\u001b[0m\u001b[0;31m:\u001b[0m expected an indented block after 'if' statement on line 1\n"
     ]
    }
   ],
   "source": [
    "if age>=18 and age<=45:\n",
    "print(\"you are a young blood\")"
   ]
  },
  {
   "cell_type": "code",
   "execution_count": 17,
   "id": "d2141d8b-f606-4137-ae29-176328ee4060",
   "metadata": {},
   "outputs": [
    {
     "name": "stdin",
     "output_type": "stream",
     "text": [
      "enter age 32\n"
     ]
    },
    {
     "name": "stdout",
     "output_type": "stream",
     "text": [
      "you are a young blood\n"
     ]
    }
   ],
   "source": [
    "age=int(input(\"enter age\"))\n",
    "if age>=18 and age<=45:\n",
    "    print(\"you are a young blood\")"
   ]
  },
  {
   "cell_type": "code",
   "execution_count": 18,
   "id": "54ea3f9b-64d6-4dce-bf7b-5e331a131aaa",
   "metadata": {},
   "outputs": [
    {
     "name": "stdin",
     "output_type": "stream",
     "text": [
      "enter age 32\n"
     ]
    }
   ],
   "source": [
    "age=int(input(\"enter age\"))"
   ]
  },
  {
   "cell_type": "code",
   "execution_count": 19,
   "id": "d00743f6-4d78-48e8-b002-1df4c7833bf8",
   "metadata": {},
   "outputs": [
    {
     "ename": "IndentationError",
     "evalue": "expected an indented block after 'if' statement on line 1 (86955405.py, line 2)",
     "output_type": "error",
     "traceback": [
      "\u001b[0;36m  Cell \u001b[0;32mIn[19], line 2\u001b[0;36m\u001b[0m\n\u001b[0;31m    print(\"you are a young blood\")\u001b[0m\n\u001b[0m    ^\u001b[0m\n\u001b[0;31mIndentationError\u001b[0m\u001b[0;31m:\u001b[0m expected an indented block after 'if' statement on line 1\n"
     ]
    }
   ],
   "source": [
    "if age>=18 and age<=45:\n",
    "print(\"you are a young blood\")"
   ]
  },
  {
   "cell_type": "code",
   "execution_count": 22,
   "id": "0259643b-9f36-497d-9e89-b2aaeba50229",
   "metadata": {},
   "outputs": [
    {
     "name": "stdin",
     "output_type": "stream",
     "text": [
      "enter age 58\n"
     ]
    },
    {
     "name": "stdout",
     "output_type": "stream",
     "text": [
      "Thank you we will let you know\n"
     ]
    }
   ],
   "source": [
    "age=int(input(\"enter age\"))\n",
    "if age>=18 and age<=45:\n",
    "    print(\"you are a young blood\")\n",
    "else:\n",
    "    print(\"Thank you we will let you know\")"
   ]
  },
  {
   "cell_type": "code",
   "execution_count": 24,
   "id": "6bbe7810-dc30-4611-862b-cca424c64167",
   "metadata": {},
   "outputs": [
    {
     "name": "stdin",
     "output_type": "stream",
     "text": [
      "Enter the product price 999\n"
     ]
    },
    {
     "name": "stdout",
     "output_type": "stream",
     "text": [
      "the product price is 699.3 \n"
     ]
    }
   ],
   "source": [
    "product_price=int(input(\"Enter the product price\"))\n",
    "if product_price>1000:\n",
    "    product_price=.80*product_price\n",
    "    print(f\"the product price is {product_price}\")\n",
    "else:\n",
    "    product_price=.70*product_price\n",
    "    print(f\"the product price is {product_price} \")"
   ]
  },
  {
   "cell_type": "code",
   "execution_count": 32,
   "id": "3c3936d1-fedf-4684-9c65-afd45c20ac09",
   "metadata": {},
   "outputs": [
    {
     "name": "stdin",
     "output_type": "stream",
     "text": [
      "Enter the product price 2999\n"
     ]
    },
    {
     "name": "stdout",
     "output_type": "stream",
     "text": [
      "congretulations you get an gift\n",
      "the product price is 2099.2999999999997 \n"
     ]
    }
   ],
   "source": [
    "product_price=int(input(\"Enter the product price\"))\n",
    "if product_price>3000:\n",
    "    print(f\"the product price is {product_price*.80}\")\n",
    "elif product_price>=2000 and product_price<=3000:\n",
    "    if product_price==2999:\n",
    "        print(\"congretulations you get an gift\")\n",
    "    print(f\"the product price is {product_price*.7} \")\n",
    "elif product_price>=1000 and product_price<2000:\n",
    "    print(f\"the product price is {product_price*.60} \")\n",
    "        \n",
    "    "
   ]
  },
  {
   "cell_type": "code",
   "execution_count": 34,
   "id": "a8f7caa8-6ff9-4683-b9d3-d3ba92c971c5",
   "metadata": {},
   "outputs": [
    {
     "name": "stdin",
     "output_type": "stream",
     "text": [
      "enter the no 56\n"
     ]
    },
    {
     "name": "stdout",
     "output_type": "stream",
     "text": [
      "value is less than equal to 999\n"
     ]
    }
   ],
   "source": [
    "val=int(input('enter the no'))\n",
    "if(val<=999):print('value is less than equal to 999')\n",
    "else:\n",
    "    print(\"Go Home\")"
   ]
  },
  {
   "cell_type": "code",
   "execution_count": null,
   "id": "d7c43e32-36d4-4f53-95c2-1319a52c02c7",
   "metadata": {},
   "outputs": [],
   "source": []
  }
 ],
 "metadata": {
  "kernelspec": {
   "display_name": "Python 3 (ipykernel)",
   "language": "python",
   "name": "python3"
  },
  "language_info": {
   "codemirror_mode": {
    "name": "ipython",
    "version": 3
   },
   "file_extension": ".py",
   "mimetype": "text/x-python",
   "name": "python",
   "nbconvert_exporter": "python",
   "pygments_lexer": "ipython3",
   "version": "3.10.8"
  }
 },
 "nbformat": 4,
 "nbformat_minor": 5
}
